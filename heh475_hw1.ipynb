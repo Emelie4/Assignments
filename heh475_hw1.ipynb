{
  "nbformat": 4,
  "nbformat_minor": 0,
  "metadata": {
    "colab": {
      "provenance": [],
      "toc_visible": true,
      "authorship_tag": "ABX9TyNews6BRCaTpvHACZWIbI3n"
    },
    "kernelspec": {
      "name": "python3",
      "display_name": "Python 3"
    },
    "language_info": {
      "name": "python"
    }
  },
  "cells": [
    {
      "cell_type": "markdown",
      "source": [
        "# Homework 1\n",
        "Download the file heh475_hw1.ipynb; Open the file via Jupyter Notebook; Run the code by clicking the “Run” button"
      ],
      "metadata": {
        "id": "AfENtyAJMdYw"
      }
    },
    {
      "cell_type": "markdown",
      "source": [
        "# String"
      ],
      "metadata": {
        "id": "bag1Fr4Df0Qn"
      }
    },
    {
      "cell_type": "code",
      "execution_count": null,
      "metadata": {
        "colab": {
          "base_uri": "https://localhost:8080/"
        },
        "id": "CQ0qs4FebzvN",
        "outputId": "68fa1dcb-6f93-4d02-c40c-87f5cb4f8f5a"
      },
      "outputs": [
        {
          "output_type": "stream",
          "name": "stdout",
          "text": [
            "Welcome to Python Programming\n",
            "Python\n",
            "mming\n",
            "Welcome to Python Programming!!!\n"
          ]
        }
      ],
      "source": [
        "#Create the string str with “Welcome to Python Programming”\n",
        "str = \"Welcome to Python Programming\"\n",
        "#Output the string using the function Print\n",
        "print(str)\n",
        "#Output the substring from indexes 11 to 16 (including both indexes 11 and 16).\n",
        "print(str[11:17])\n",
        "#Output the substring of the last 5 characters (please use negative index)\n",
        "print(str[-5:])\n",
        "#Concatenate the string ‘!!!’ to the end of the string str\n",
        "str=str+'!!!'\n",
        "#Output the string str\n",
        "print(str)"
      ]
    },
    {
      "cell_type": "markdown",
      "source": [
        "# List"
      ],
      "metadata": {
        "id": "FTaJll-cfm3L"
      }
    },
    {
      "cell_type": "code",
      "source": [
        "#Create an empty list\n",
        "list = []\n",
        "#Add the elements 1, 2, 3, 4 into the list one by one and output the list after all additions\n",
        "for i in range(1,5):\n",
        "  list.append(i)\n",
        "print(list)\n",
        "#Add the tuple (5, 6) as an element to the end of the list and output the list\n",
        "tpl = tuple([5,6])\n",
        "list.append(tpl)\n",
        "print(list)\n",
        "#Add the list [‘perfect’, ‘wonderful’] as an element to the end of the list and output the list\n",
        "add = ['perfect','wonderful']\n",
        "list.append(add)\n",
        "print(list)\n",
        "#Concatenate the list [[7, 8], [9, 10]] to the end of the above list and output the new list\n",
        "list=list+[[7,8],[9,10]]\n",
        "print(list)\n",
        "#Add the multiple elements 8.5, 7, ‘code’, ‘software’ to the end of the list at once and output the list\n",
        "list.extend([8.5,7,'code','software'])\n",
        "print(list)\n",
        "#Output the last 5 elements in the list\n",
        "print(list[-5:])\n",
        "#Remove the elements from indexes 3 to 6 and output the list\n",
        "del list[2:6]\n",
        "print(list)"
      ],
      "metadata": {
        "colab": {
          "base_uri": "https://localhost:8080/"
        },
        "id": "Vaej-ZNZgfUN",
        "outputId": "45a2a463-9083-44c8-d410-356fb8ad0d13"
      },
      "execution_count": null,
      "outputs": [
        {
          "output_type": "stream",
          "name": "stdout",
          "text": [
            "[1, 2, 3, 4]\n",
            "[1, 2, 3, 4, (5, 6)]\n",
            "[1, 2, 3, 4, (5, 6), ['perfect', 'wonderful']]\n",
            "[1, 2, 3, 4, (5, 6), ['perfect', 'wonderful'], [7, 8], [9, 10]]\n",
            "[1, 2, 3, 4, (5, 6), ['perfect', 'wonderful'], [7, 8], [9, 10], 8.5, 7, 'code', 'software']\n",
            "[[9, 10], 8.5, 7, 'code', 'software']\n",
            "[1, 2, [7, 8], [9, 10], 8.5, 7, 'code', 'software']\n"
          ]
        }
      ]
    },
    {
      "cell_type": "markdown",
      "source": [],
      "metadata": {
        "id": "prOKHNh298sN"
      }
    },
    {
      "cell_type": "markdown",
      "source": [
        "# Tuple"
      ],
      "metadata": {
        "id": "ZZR0YxNwlrck"
      }
    },
    {
      "cell_type": "code",
      "source": [
        "#Create a tuple Tuple1 using the list with elements 1, 2, 3, 4 and output the tuple. (Note:there are many ways to create a tuple. You use the list to create the tuple here.)\n",
        "Tuple1 = tuple([1,2,3,4])\n",
        "print(Tuple1)\n",
        "#Create another tuple Tuple2 with elements ‘Python’, ‘for’, and ‘kids’ directly, and then output the tuple\n",
        "Tuple2 = ('Python','for','kids')\n",
        "print(Tuple2)\n",
        "#Concatenate the tuple Tuple2 to the end of Tuple1 and assign the resulted tuple to Tuple1. Then output the tuple Tuple1.\n",
        "Tuple1 = Tuple1+Tuple2\n",
        "print(Tuple1)\n",
        "#Output elements from index 3 to the end\n",
        "print(Tuple1[2:])"
      ],
      "metadata": {
        "colab": {
          "base_uri": "https://localhost:8080/"
        },
        "id": "-ByE2iCTl6O7",
        "outputId": "07cb8932-b06c-482a-e1a2-556ca22c112a"
      },
      "execution_count": null,
      "outputs": [
        {
          "output_type": "stream",
          "name": "stdout",
          "text": [
            "(1, 2, 3, 4)\n",
            "('Python', 'for', 'kids')\n",
            "(1, 2, 3, 4, 'Python', 'for', 'kids')\n",
            "(3, 4, 'Python', 'for', 'kids')\n"
          ]
        }
      ]
    },
    {
      "cell_type": "markdown",
      "source": [
        "# Dictionary"
      ],
      "metadata": {
        "id": "X28yMn-vr9f4"
      }
    },
    {
      "cell_type": "markdown",
      "source": [],
      "metadata": {
        "id": "kJFlen_lsHHh"
      }
    },
    {
      "cell_type": "code",
      "source": [
        "#Create an empty dictionary Dict\n",
        "dict = {}\n",
        "#Adding elements 0: ‘Python’, 1: ‘Programming’, 2: ‘Funny’ one by one and then output the dictionary.\n",
        "dict[0]='Python'\n",
        "dict[1]='Programming'\n",
        "dict[2]='Funny'\n",
        "print(dict)\n",
        "#Update the key 1’s value to ‘is very’ and output the dictionary.\n",
        "dict[1]='is very'\n",
        "print(dict)\n",
        "#Output all the keys\n",
        "for key in dict.keys():\n",
        "  print(key)\n",
        "#Output all the values\n",
        "for value in dict.values():\n",
        "  print(value)\n",
        "#Delete the element with the key 2 and output the dictionary. (Note: you should delete the entire element with the key and value).\n",
        "del dict[2]\n",
        "print(dict)\n",
        "#Check for existence of key 2\n",
        "print(2 in dict)\n",
        "#Convert the dictionary Dict to a list. Only the values of the dictionary are in the list. Then, output the list.\n",
        "list_dict = list(dict.values())\n",
        "print(list_dict)"
      ],
      "metadata": {
        "colab": {
          "base_uri": "https://localhost:8080/"
        },
        "id": "42be4eHNsH6u",
        "outputId": "89b0b314-b570-497f-bfa5-bf76a3b78167"
      },
      "execution_count": null,
      "outputs": [
        {
          "output_type": "stream",
          "name": "stdout",
          "text": [
            "{0: 'Python', 1: 'Programming', 2: 'Funny'}\n",
            "{0: 'Python', 1: 'is very', 2: 'Funny'}\n",
            "0\n",
            "1\n",
            "2\n",
            "Python\n",
            "is very\n",
            "Funny\n",
            "{0: 'Python', 1: 'is very'}\n",
            "False\n",
            "['Python', 'is very']\n"
          ]
        }
      ]
    }
  ]
}