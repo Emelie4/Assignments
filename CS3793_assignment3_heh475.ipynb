{
  "nbformat": 4,
  "nbformat_minor": 0,
  "metadata": {
    "colab": {
      "provenance": []
    },
    "kernelspec": {
      "name": "python3",
      "display_name": "Python 3"
    }
  },
  "cells": [
    {
      "cell_type": "markdown",
      "metadata": {
        "id": "9wUL_Fy5qUDI"
      },
      "source": [
        "# UTSA CS 3793: Assignment-3\n",
        "\n",
        "**Chinweuba - Chiemelie - (heh475)**\n",
        "\n",
        "\n",
        "\n",
        "\n"
      ]
    },
    {
      "cell_type": "markdown",
      "metadata": {
        "id": "NM8b9KVYsETT"
      },
      "source": [
        "## Learning Objectives\n",
        "\n",
        "Implement 2 different machine learning algorithms\n",
        "*   Stochastic Gradient Descent\n",
        "*   ID3 Decision Tree\n"
      ]
    },
    {
      "cell_type": "markdown",
      "metadata": {
        "id": "LzR4Ic34zJlT"
      },
      "source": [
        "\n",
        "## Description\n",
        "\n",
        "This assignment is focused on **machine learning**, mainly on the implementation of 2 different algorithms - Stochastic Gradient Descent & ID3 decision tree.\n",
        "The assignment is divided into two sections, each for one unique ML algorithm.\n",
        "\n",
        "The base structure and comments are provided on what should be done. You can use some libraries that help support you for the successful completion of the assignment. However, you **CANNOT** use a complete library that contains the implementation of ML algorithms. You can get pieces of code from online, but please cite the source properly.\n"
      ]
    },
    {
      "cell_type": "markdown",
      "metadata": {
        "id": "vnPfmHAOteOI"
      },
      "source": [
        "##Import Libraries\n",
        "\n",
        "Write all the import statements here. This should be for both algorithm implmentations. As mentioned before, you can not use any premade ML libraries."
      ]
    },
    {
      "cell_type": "code",
      "metadata": {
        "id": "f9apbZGptej6"
      },
      "source": [
        "# import all required libraries\n",
        "from google.colab import drive\n",
        "import pandas as pd\n",
        "import numpy as np\n",
        "from matplotlib import pyplot as plt"
      ],
      "execution_count": null,
      "outputs": []
    },
    {
      "cell_type": "code",
      "metadata": {
        "id": "fdqXyFZ95P0j",
        "colab": {
          "base_uri": "https://localhost:8080/"
        },
        "outputId": "d4d797e1-5267-4d3e-c7d3-08ad24231355"
      },
      "source": [
        "# Assume that the data files are in the following folder -- THIS WILL BE USED BY THE TA\n",
        "drive.mount('/content/drive')\n",
        "basePath = \"/content/drive/My Drive/Colab Notebooks/Artificial Intelligence/Data/\"\n"
      ],
      "execution_count": null,
      "outputs": [
        {
          "output_type": "stream",
          "name": "stdout",
          "text": [
            "Drive already mounted at /content/drive; to attempt to forcibly remount, call drive.mount(\"/content/drive\", force_remount=True).\n"
          ]
        }
      ]
    },
    {
      "cell_type": "markdown",
      "metadata": {
        "id": "YeYRnesWqvLm"
      },
      "source": [
        "#Stochastic Gradient Descent\n",
        "\n",
        "In this section, you will implement the Stochastic Gradient Descent algorithm. The training is for a **binary classification** task i.e. each instance will have a class value of 0 or 1. Also, assume that you are given **all binary-valued attributes** and that there are **no missing values** in the train or test data.\n"
      ]
    },
    {
      "cell_type": "markdown",
      "metadata": {
        "id": "IUVZIK6ctMi4"
      },
      "source": [
        "##Algorithm\n",
        "\n",
        "(40 points)\n",
        "\n",
        "Following are the data files that will be provided to you for the gradient descent algorithm implementation.\n",
        "\n",
        "*   Training file - 'gd-train.dat'\n",
        "*   Testing file - 'gd-test.dat'\n",
        "\n",
        "In these files, only non-space characters are relevant. The first line contains the attribute names. All the other lines are different example instances to be used for the algorithm. Each column holds values of the attributes, whereas the last column holds the class label for that instance.\n",
        "\n",
        "Write the code in the following code block, structure is provided. Instructions on the steps to follow are provided as comments.\n",
        "\n"
      ]
    },
    {
      "cell_type": "code",
      "metadata": {
        "id": "2XoSqVJG5FkG"
      },
      "source": [
        "# Data file name variables\n",
        "train = basePath + \"gd-train.dat\"\n",
        "test = basePath + \"gd-test.dat\"\n"
      ],
      "execution_count": null,
      "outputs": []
    },
    {
      "cell_type": "code",
      "metadata": {
        "id": "l73PTZtCPdxj"
      },
      "source": [
        "# Read the training and testing data files\n",
        "df_train = pd.read_csv(train, delimiter='\\t')\n",
        "df_test = pd.read_csv(test, delimiter='\\t')"
      ],
      "execution_count": null,
      "outputs": []
    },
    {
      "cell_type": "code",
      "metadata": {
        "id": "VN3FC2qcPfcR"
      },
      "source": [
        "# Activation Function - implement Sigmoid\n",
        "def activation_function(h):\n",
        "    # given 'h' compute and return 'z' based on the activation function implemented\n",
        "    z = 1/(1 + np.exp(-h))\n",
        "    return z\n"
      ],
      "execution_count": null,
      "outputs": []
    },
    {
      "cell_type": "code",
      "metadata": {
        "id": "V5njAQvmPmOC"
      },
      "source": [
        "# Train the model using the given training dataset and the learning rate\n",
        "# return the \"weights\" learnt for the perceptron - include the weight assocaited with bias as the last entry\n",
        "#array= [1, 2, 3, 4]\n",
        "#print(array[:-1]) will be 1,2,3\n",
        "#print(array[-1]) will be 4\n",
        "def train(train_data, learning_rate=0.05):\n",
        "    # initialize weights to 0\n",
        "    weights = np.zeros(train_data.shape[1])\n",
        "    # go through each training data instance\n",
        "    for index, row in train_data.iterrows():\n",
        "        # get 'x' as one multi-variate data instance and 'y' as the ground truth class label\n",
        "        x=row[:-1]\n",
        "        y=row[-1]\n",
        "        # obtain h(x)\n",
        "        h = np.dot(weights[:-1], x) + weights[-1]\n",
        "        # call the activation function with 'h' as parameter to obtain 'z'\n",
        "        z = activation_function(h)\n",
        "        # update all weights individually using learning_rate, (y-z), and the corresponding 'x'\n",
        "        weights[:-1] += learning_rate * (y - z) * x\n",
        "        weights[-1] += learning_rate * (y - z)\n",
        "    # return the final learnt weights\n",
        "    return weights\n"
      ],
      "execution_count": null,
      "outputs": []
    },
    {
      "cell_type": "code",
      "metadata": {
        "id": "Gx98kNxDPq5B"
      },
      "source": [
        "# Test the model (weights learnt) using the given test dataset\n",
        "# return the accuracy value\n",
        "def test(test_data, weights, threshold):\n",
        "    accuracy = []\n",
        "    # go through each testing data instance\n",
        "    for index, row in test_data.iterrows():\n",
        "        # get 'x' as one multi-variate data instance and 'y' as the ground truth class label\n",
        "        x=row[:-1]\n",
        "        y=row[-1]\n",
        "        # obtain h(x)\n",
        "        h = np.dot(weights[:-1], x) + weights[-1]\n",
        "        # call the activation function with 'h' as parameter to obtain 'z'\n",
        "        z = activation_function(h)\n",
        "        # use 'threshold' to convert 'z' to either 0 or 1 so as to match to the ground truth binary labels\n",
        "        prediction = 1 if z >= threshold else 0\n",
        "        # compare the thresholded 'z' with 'y' to calculate the positive and negative instances for calculating accuracy\n",
        "        accuracy.append(prediction ==y)\n",
        "        accuracyValue =sum(accuracy)/len(accuracy)\n",
        "    # return the accuracy value for the given test dataset\n",
        "    return accuracyValue\n"
      ],
      "execution_count": null,
      "outputs": []
    },
    {
      "cell_type": "code",
      "metadata": {
        "id": "_5B6IG0APxH4"
      },
      "source": [
        "# Gradient Descent function\n",
        "def gradient_descent(df_train, df_test, learning_rate=0.05, threshold=0.5):\n",
        "    # call the train function to train the model and obtain the weights\n",
        "    weights= train(df_train,learning_rate)\n",
        "    # call the test function with the training dataset to obtain the training accuracy\n",
        "    trainAccuracy =test(df_train, weights, threshold)\n",
        "    # call the test function with the testing dataset to obtain the testing accuracy\n",
        "    testAccuracy= test(df_test, weights, threshold)\n",
        "    # return (trainAccuracy, testAccuracy)\n",
        "    return trainAccuracy,testAccuracy\n"
      ],
      "execution_count": null,
      "outputs": []
    },
    {
      "cell_type": "code",
      "metadata": {
        "id": "MB_b5ButP3w3"
      },
      "source": [
        "# Threshold of 0.5 will be used to classify the instance for the test. If the value is >= 0.5, classify as 1 or else 0.\n",
        "threshold = 0.5\n"
      ],
      "execution_count": null,
      "outputs": []
    },
    {
      "cell_type": "code",
      "metadata": {
        "id": "YdPwgSBOtb1P",
        "colab": {
          "base_uri": "https://localhost:8080/"
        },
        "outputId": "adfd6d6d-b19f-45cb-d0da-fb28e51434e8"
      },
      "source": [
        "# Main algorithm loop\n",
        "# Loop through all the different learning rates [0.05, 1]\n",
        "learningRates =np.arange(0.05, 1.05, 0.05)\n",
        "learningRates =np.round(learningRates, 2)\n",
        "for rate in learningRates:\n",
        "    # For each learning rate selected, call the gradient descent function to obtain the train and test accuracy values\n",
        "    trainAccuracy,testAccuracy =gradient_descent(df_train, df_test, learning_rate=rate, threshold=0.5)\n",
        "    # Print both the accuracy values as \"Accuracy for LR of 0.1 on Training set = x %\" OR \"Accuracy for LR of 0.1 on Testing set = x %\"\n",
        "    print(f\"Accuracy for LR of {rate} on Training set = {trainAccuracy:.2f}\")\n",
        "    print(f\"Accuracy for LR of {rate} on Testing set = {testAccuracy:.4f}\")\n"
      ],
      "execution_count": null,
      "outputs": [
        {
          "output_type": "stream",
          "name": "stdout",
          "text": [
            "Accuracy for LR of 0.05 on Training set = 0.68\n",
            "Accuracy for LR of 0.05 on Testing set = 0.7225\n",
            "Accuracy for LR of 0.1 on Training set = 0.68\n",
            "Accuracy for LR of 0.1 on Testing set = 0.7175\n",
            "Accuracy for LR of 0.15 on Training set = 0.68\n",
            "Accuracy for LR of 0.15 on Testing set = 0.7175\n",
            "Accuracy for LR of 0.2 on Training set = 0.69\n",
            "Accuracy for LR of 0.2 on Testing set = 0.7150\n",
            "Accuracy for LR of 0.25 on Training set = 0.69\n",
            "Accuracy for LR of 0.25 on Testing set = 0.7150\n",
            "Accuracy for LR of 0.3 on Training set = 0.69\n",
            "Accuracy for LR of 0.3 on Testing set = 0.7125\n",
            "Accuracy for LR of 0.35 on Training set = 0.69\n",
            "Accuracy for LR of 0.35 on Testing set = 0.7050\n",
            "Accuracy for LR of 0.4 on Training set = 0.70\n",
            "Accuracy for LR of 0.4 on Testing set = 0.7075\n",
            "Accuracy for LR of 0.45 on Training set = 0.69\n",
            "Accuracy for LR of 0.45 on Testing set = 0.6900\n",
            "Accuracy for LR of 0.5 on Training set = 0.69\n",
            "Accuracy for LR of 0.5 on Testing set = 0.6950\n",
            "Accuracy for LR of 0.55 on Training set = 0.69\n",
            "Accuracy for LR of 0.55 on Testing set = 0.6800\n",
            "Accuracy for LR of 0.6 on Training set = 0.69\n",
            "Accuracy for LR of 0.6 on Testing set = 0.6750\n",
            "Accuracy for LR of 0.65 on Training set = 0.69\n",
            "Accuracy for LR of 0.65 on Testing set = 0.6650\n",
            "Accuracy for LR of 0.7 on Training set = 0.69\n",
            "Accuracy for LR of 0.7 on Testing set = 0.6525\n",
            "Accuracy for LR of 0.75 on Training set = 0.67\n",
            "Accuracy for LR of 0.75 on Testing set = 0.6525\n",
            "Accuracy for LR of 0.8 on Training set = 0.66\n",
            "Accuracy for LR of 0.8 on Testing set = 0.6475\n",
            "Accuracy for LR of 0.85 on Training set = 0.66\n",
            "Accuracy for LR of 0.85 on Testing set = 0.6450\n",
            "Accuracy for LR of 0.9 on Training set = 0.65\n",
            "Accuracy for LR of 0.9 on Testing set = 0.6425\n",
            "Accuracy for LR of 0.95 on Training set = 0.67\n",
            "Accuracy for LR of 0.95 on Testing set = 0.6425\n",
            "Accuracy for LR of 1.0 on Training set = 0.67\n",
            "Accuracy for LR of 1.0 on Testing set = 0.6450\n"
          ]
        }
      ]
    },
    {
      "cell_type": "markdown",
      "metadata": {
        "id": "lYxmgcnes9cS"
      },
      "source": [
        "##Extra Credit - Accuracy Plots\n",
        "\n",
        "(05 points)\n",
        "\n",
        "Use the above accuracy results on the training and testing data and write code to plot the graphs as mentioned in the code block below.\n",
        "\n"
      ]
    },
    {
      "cell_type": "code",
      "metadata": {
        "id": "fbBNakSDq0Wv",
        "colab": {
          "base_uri": "https://localhost:8080/",
          "height": 893
        },
        "outputId": "89be0e0c-79a4-4c37-c2b1-62daa65287d6"
      },
      "source": [
        "# Plot the graphs for accuracy results.\n",
        "# There will be 2 graphs - one for training data and the other for testing data\n",
        "# For each graph,\n",
        "    # X-axis will be the learning rate going from 0.05-1 in increments on 0.05\n",
        "    # Y-axis will be the accuracy values at the selected learning rate.\n",
        "trainGraph = []\n",
        "testGraph = []\n",
        "\n",
        "for rate in learningRates:\n",
        "    # For each learning rate selected, call the gradient descent function to obtain the train and test accuracy values\n",
        "    trainAccuracy,testAccuracy =gradient_descent(df_train, df_test, learning_rate=rate, threshold=0.5)\n",
        "    trainGraph.append(trainAccuracy)\n",
        "    testGraph.append(testAccuracy)\n",
        "\n",
        "plt.plot(learningRates,trainGraph)\n",
        "#forces accuracy to plot from 0-1\n",
        "plt.ylim(0, 1)\n",
        "plt.xlabel(\"Training Accruacy\")\n",
        "plt.ylabel(\"Learning Rate\")\n",
        "plt.show()\n",
        "plt.plot(learningRates,testGraph)\n",
        "plt.ylim(0, 1)\n",
        "plt.xlabel(\"Testing Accruacy\")\n",
        "plt.ylabel(\"Learning Rate\")\n",
        "plt.show()"
      ],
      "execution_count": null,
      "outputs": [
        {
          "output_type": "display_data",
          "data": {
            "text/plain": [
              "<Figure size 640x480 with 1 Axes>"
            ],
            "image/png": "[encoded data removed]"
          },
          "metadata": {}
        },
        {
          "output_type": "display_data",
          "data": {
            "text/plain": [
              "<Figure size 640x480 with 1 Axes>"
            ],
            "image/png": "[encoded data removed]"
          },
          "metadata": {}
        }
      ]
    },
    {
      "cell_type": "markdown",
      "metadata": {
        "id": "onnqJYTEq0l3"
      },
      "source": [
        "#ID3 Decision Tree\n",
        "\n",
        "In this section, you will implement the ID3 Decision Tree algorithm. The training is for a **binary classification** task i.e. each instance will have a class value of 0 or 1. Also, assume that there are **no missing values** in the train or test data.\n"
      ]
    },
    {
      "cell_type": "markdown",
      "metadata": {
        "id": "eDNztBkTtRPw"
      },
      "source": [
        "## Algorithm\n",
        "\n",
        "(85 points)\n",
        "\n",
        "Following are the data files that will be provided to you for the ID3 algorithm implementation.\n",
        "\n",
        "*   Training file - 'id3-train.dat'\n",
        "*   Testing file - 'id3-test.dat'\n",
        "\n",
        "In these files, only non-space characters are relevant. The first line contains the attribute names. All the other lines are example instances to be used for the algorithm. Each column holds values of the attributes, whereas the last column holds the class label for that instance.\n",
        "\n",
        "In a decision tree, if you reach a leaf node but still have examples that belong to different classes, then choose the most frequent class (among the instances at the leaf node). If you reach a leaf node in the decision tree and have no examples left or the examples are equally split among multiple classes, then choose the class that is most frequent in the entire training set. You do not need to implement pruning. Also, don’t forget to use logarithm base 2 when computing entropy and set (0 log 0) to 0.\n",
        "\n",
        "Write the code in the following code block, structure is provided. Instructions on the steps to follow are provided as comments. The code should output the following 3 things:\n",
        "\n",
        "*   Print the Decision Tree created, in the following example format:\n",
        "\n",
        "    ```\n",
        "    attr1 = 0 :\n",
        "        attr2 = 0 :\n",
        "            attr3 = 0 : 1 -- 4\n",
        "            attr3 = 1 : 0 -- 9\n",
        "        attr2 = 1 :\n",
        "            attr4 = 0 : 0 -- 2\n",
        "            attr4 = 1 : 1 -- 10\n",
        "    attr1 = 1 :\n",
        "        attr2 = 1 : 1 -- 17\n",
        "\n",
        "    ```\n",
        "\n",
        "*   Accuracy on the Training data = x %\n",
        "*   Accuracy on the Test data = x %\n",
        "\n",
        "\n",
        "\n"
      ]
    },
    {
      "cell_type": "code",
      "metadata": {
        "id": "wTLz1lGYQJKS"
      },
      "source": [
        "# Data file name variables\n",
        "train = basePath + \"id3-train.dat\"\n",
        "test = basePath + \"id3-test.dat\"\n"
      ],
      "execution_count": null,
      "outputs": []
    },
    {
      "cell_type": "code",
      "metadata": {
        "id": "HwHYC6xjQP5D"
      },
      "source": [
        "# Pseudocode for the ID3 algorithm. Use this to create function(s).\n",
        "# def ID3(data, root, attributesRemaining):\n",
        "def ID3(data, root, attributesRemaining):\n",
        "    # If you reach a leaf node in the decision tree and have no examples left or the examples are equally split among multiple classes\n",
        "        # Choose and the class that is most frequent in the entire training set and return the updated tree\n",
        "    # If all the instances have only one class label\n",
        "        # Make this as the leaf node and use the label as the class value of the node and return the updated tree\n",
        "    # If you reached a leaf node but still have examples that belong to different classes (there are no remaining attributes to be split)\n",
        "        # Assign the most frequent class among the instances at the leaf node and return the updated tree\n",
        "    # Find the best attribute to split by calculating the maximum information gain from the attributes remaining by calculating the entropy\n",
        "    # Split the tree using the best attribute and recursively call the ID3 function using DFS to fill the sub-tree\n",
        "    # return the root as the tree\n",
        "    return root\n",
        "\n"
      ],
      "execution_count": null,
      "outputs": []
    },
    {
      "cell_type": "code",
      "metadata": {
        "id": "XELGzRDftS77",
        "colab": {
          "base_uri": "https://localhost:8080/",
          "height": 219
        },
        "outputId": "f1de1a77-b635-467c-e3f0-3736998c8ae6"
      },
      "source": [
        "# Following is the base code structure. Feel free to change the code structure as you see fit, maybe even create more functions.\n",
        "df_train = pd.read_csv(train)\n",
        "df_test = pd.read_csv(test)\n",
        "# Read the first line in the training data file, to get the number of attributes\n",
        "with open(train) as f:\n",
        "  attributes = f.readline().split()\n",
        "# Read all the training instances and the ground truth class labels.\n",
        "for index, row in df_train.iterrows():\n",
        "  x=row[:-1]\n",
        "  y=row[-1]\n",
        "\n",
        "# Create the decision tree by implementing the ID3 algorithm. Pseudocode provided above.\n",
        "tree = ID3(df_train)\n",
        "# Print the tree in the example format mentioned.\n",
        "# Use the above created tree to predict the training data and print the accuracy as \"Accuracy on the Training data = x %\"\n",
        "    # For each training instance, predict the output label\n",
        "    # Compare it with the ground truth class label and calculate the accuracy accordingly\n",
        "# Use the above created tree to predict the testing data and print the accuracy as \"Accuracy on the Test data = x %\"\n",
        "    # For each testing instance, predict the output label\n",
        "    # Compare it with the ground truth class label and calculate the accuracy accordingly\n",
        "\n"
      ],
      "execution_count": null,
      "outputs": [
        {
          "output_type": "error",
          "ename": "TypeError",
          "evalue": "ID3() missing 3 required positional arguments: 'data', 'root', and 'attributesRemaining'",
          "traceback": [
            "\u001b[0;31m---------------------------------------------------------------------------\u001b[0m",
            "\u001b[0;31mTypeError\u001b[0m                                 Traceback (most recent call last)",
            "\u001b[0;32m<ipython-input-40-b5dda392ef51>\u001b[0m in \u001b[0;36m<cell line: 9>\u001b[0;34m()\u001b[0m\n\u001b[1;32m      7\u001b[0m \u001b[0;34m\u001b[0m\u001b[0m\n\u001b[1;32m      8\u001b[0m \u001b[0;31m# Create the decision tree by implementing the ID3 algorithm. Pseudocode provided above.\u001b[0m\u001b[0;34m\u001b[0m\u001b[0;34m\u001b[0m\u001b[0m\n\u001b[0;32m----> 9\u001b[0;31m \u001b[0mtree\u001b[0m \u001b[0;34m=\u001b[0m \u001b[0mID3\u001b[0m\u001b[0;34m(\u001b[0m\u001b[0;34m)\u001b[0m\u001b[0;34m\u001b[0m\u001b[0;34m\u001b[0m\u001b[0m\n\u001b[0m\u001b[1;32m     10\u001b[0m \u001b[0;31m# Print the tree in the example format mentioned.\u001b[0m\u001b[0;34m\u001b[0m\u001b[0;34m\u001b[0m\u001b[0m\n\u001b[1;32m     11\u001b[0m \u001b[0;31m# Use the above created tree to predict the training data and print the accuracy as \"Accuracy on the Training data = x %\"\u001b[0m\u001b[0;34m\u001b[0m\u001b[0;34m\u001b[0m\u001b[0m\n",
            "\u001b[0;31mTypeError\u001b[0m: ID3() missing 3 required positional arguments: 'data', 'root', and 'attributesRemaining'"
          ]
        }
      ]
    },
    {
      "cell_type": "markdown",
      "metadata": {
        "id": "YvYowzzA4vcd"
      },
      "source": [
        "##Extra Credit - Learning Curve\n",
        "\n",
        "(05 points)\n",
        "\n",
        "Instead of taking the entire training data (all 800 instances), loop through to select 'x' instances in the increments of 40 (i.e. 40, 80, 120, and so on). For each selected number 'x', randomly pick the example instances from the training data and call the ID3 function to create the decision tree. Calculate the accuracy of the created ID3 tree on the Test data file. Plot the corresponding graph, aka Learning Curve.\n"
      ]
    },
    {
      "cell_type": "code",
      "metadata": {
        "id": "FYSK99zp5a7H"
      },
      "source": [
        "# Loop through to select the number of instances 'x' in increments of 40\n",
        "# For each 'x',\n",
        "    # Randomly select 'x' instances\n",
        "    # Create the ID3 decision tree using those instances\n",
        "    # Calculate the accuracy of the ID3 tree created on the Test data\n",
        "\n",
        "# Plot the learning curve using the accuracy values\n",
        "    # X-axis will be the number of training instances used for creating the tree\n",
        "    # Y-axis will be the accuracy in % on the Test data\n",
        "\n"
      ],
      "execution_count": null,
      "outputs": []
    },
    {
      "cell_type": "markdown",
      "metadata": {
        "id": "YJSFgNBQrhQU"
      },
      "source": [
        "#Submission Instructions\n",
        "\n",
        "1.   Complete all tasks above - **File MUST contain the output for ALL cells**\n",
        "2.   Export this notebook as .ipynb\n",
        "      (File > Download as ipynb)\n",
        "3.   Upload the .ipynb file on Blackboard"
      ]
    },
    {
      "cell_type": "markdown",
      "metadata": {
        "id": "0lGvLE9H6ptL"
      },
      "source": [
        "##Rubric\n",
        "\n",
        "*   (40 points) Gradient Descent Algorithm\n",
        "*   (05 points) Extra Credit - GD Accuracy Plots\n",
        "*   (85 points) ID3 Algorithm\n",
        "*   (05 points) Extra Credit - ID3 Learning Curve\n"
      ]
    }
  ]
}